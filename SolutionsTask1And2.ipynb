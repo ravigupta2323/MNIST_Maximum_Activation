{
  "nbformat": 4,
  "nbformat_minor": 0,
  "metadata": {
    "colab": {
      "name": "MNIST_dream.ipynb",
      "provenance": []
    },
    "kernelspec": {
      "name": "python3",
      "display_name": "Python 3"
    },
    "accelerator": "GPU",
    "widgets": {
      "application/vnd.jupyter.widget-state+json": {
        "a013cc34191b49d7b641310c819288e6": {
          "model_module": "@jupyter-widgets/controls",
          "model_name": "HBoxModel",
          "state": {
            "_view_name": "HBoxView",
            "_dom_classes": [],
            "_model_name": "HBoxModel",
            "_view_module": "@jupyter-widgets/controls",
            "_model_module_version": "1.5.0",
            "_view_count": null,
            "_view_module_version": "1.5.0",
            "box_style": "",
            "layout": "IPY_MODEL_c3e60be1c2074227b10ff6338c3e800c",
            "_model_module": "@jupyter-widgets/controls",
            "children": [
              "IPY_MODEL_4cb95aff159048868314638918c532f1",
              "IPY_MODEL_33c70cbda38a491aa5349fd54f6b8ecd"
            ]
          }
        },
        "c3e60be1c2074227b10ff6338c3e800c": {
          "model_module": "@jupyter-widgets/base",
          "model_name": "LayoutModel",
          "state": {
            "_view_name": "LayoutView",
            "grid_template_rows": null,
            "right": null,
            "justify_content": null,
            "_view_module": "@jupyter-widgets/base",
            "overflow": null,
            "_model_module_version": "1.2.0",
            "_view_count": null,
            "flex_flow": null,
            "width": null,
            "min_width": null,
            "border": null,
            "align_items": null,
            "bottom": null,
            "_model_module": "@jupyter-widgets/base",
            "top": null,
            "grid_column": null,
            "overflow_y": null,
            "overflow_x": null,
            "grid_auto_flow": null,
            "grid_area": null,
            "grid_template_columns": null,
            "flex": null,
            "_model_name": "LayoutModel",
            "justify_items": null,
            "grid_row": null,
            "max_height": null,
            "align_content": null,
            "visibility": null,
            "align_self": null,
            "height": null,
            "min_height": null,
            "padding": null,
            "grid_auto_rows": null,
            "grid_gap": null,
            "max_width": null,
            "order": null,
            "_view_module_version": "1.2.0",
            "grid_template_areas": null,
            "object_position": null,
            "object_fit": null,
            "grid_auto_columns": null,
            "margin": null,
            "display": null,
            "left": null
          }
        },
        "4cb95aff159048868314638918c532f1": {
          "model_module": "@jupyter-widgets/controls",
          "model_name": "IntProgressModel",
          "state": {
            "_view_name": "ProgressView",
            "style": "IPY_MODEL_65d508a9ecd14e0b9843b4b425f4b3a4",
            "_dom_classes": [],
            "description": "",
            "_model_name": "IntProgressModel",
            "bar_style": "success",
            "max": 1,
            "_view_module": "@jupyter-widgets/controls",
            "_model_module_version": "1.5.0",
            "value": 1,
            "_view_count": null,
            "_view_module_version": "1.5.0",
            "orientation": "horizontal",
            "min": 0,
            "description_tooltip": null,
            "_model_module": "@jupyter-widgets/controls",
            "layout": "IPY_MODEL_aa0af76709d641fcbbc27de12566c5cd"
          }
        },
        "33c70cbda38a491aa5349fd54f6b8ecd": {
          "model_module": "@jupyter-widgets/controls",
          "model_name": "HTMLModel",
          "state": {
            "_view_name": "HTMLView",
            "style": "IPY_MODEL_f2f4ed734e174bc8acbfdefa8c7f841b",
            "_dom_classes": [],
            "description": "",
            "_model_name": "HTMLModel",
            "placeholder": "​",
            "_view_module": "@jupyter-widgets/controls",
            "_model_module_version": "1.5.0",
            "value": " 9920512/? [00:01&lt;00:00, 6359716.86it/s]",
            "_view_count": null,
            "_view_module_version": "1.5.0",
            "description_tooltip": null,
            "_model_module": "@jupyter-widgets/controls",
            "layout": "IPY_MODEL_3337cedf8db5476eb30ad61eb0b9d102"
          }
        },
        "65d508a9ecd14e0b9843b4b425f4b3a4": {
          "model_module": "@jupyter-widgets/controls",
          "model_name": "ProgressStyleModel",
          "state": {
            "_view_name": "StyleView",
            "_model_name": "ProgressStyleModel",
            "description_width": "initial",
            "_view_module": "@jupyter-widgets/base",
            "_model_module_version": "1.5.0",
            "_view_count": null,
            "_view_module_version": "1.2.0",
            "bar_color": null,
            "_model_module": "@jupyter-widgets/controls"
          }
        },
        "aa0af76709d641fcbbc27de12566c5cd": {
          "model_module": "@jupyter-widgets/base",
          "model_name": "LayoutModel",
          "state": {
            "_view_name": "LayoutView",
            "grid_template_rows": null,
            "right": null,
            "justify_content": null,
            "_view_module": "@jupyter-widgets/base",
            "overflow": null,
            "_model_module_version": "1.2.0",
            "_view_count": null,
            "flex_flow": null,
            "width": null,
            "min_width": null,
            "border": null,
            "align_items": null,
            "bottom": null,
            "_model_module": "@jupyter-widgets/base",
            "top": null,
            "grid_column": null,
            "overflow_y": null,
            "overflow_x": null,
            "grid_auto_flow": null,
            "grid_area": null,
            "grid_template_columns": null,
            "flex": null,
            "_model_name": "LayoutModel",
            "justify_items": null,
            "grid_row": null,
            "max_height": null,
            "align_content": null,
            "visibility": null,
            "align_self": null,
            "height": null,
            "min_height": null,
            "padding": null,
            "grid_auto_rows": null,
            "grid_gap": null,
            "max_width": null,
            "order": null,
            "_view_module_version": "1.2.0",
            "grid_template_areas": null,
            "object_position": null,
            "object_fit": null,
            "grid_auto_columns": null,
            "margin": null,
            "display": null,
            "left": null
          }
        },
        "f2f4ed734e174bc8acbfdefa8c7f841b": {
          "model_module": "@jupyter-widgets/controls",
          "model_name": "DescriptionStyleModel",
          "state": {
            "_view_name": "StyleView",
            "_model_name": "DescriptionStyleModel",
            "description_width": "",
            "_view_module": "@jupyter-widgets/base",
            "_model_module_version": "1.5.0",
            "_view_count": null,
            "_view_module_version": "1.2.0",
            "_model_module": "@jupyter-widgets/controls"
          }
        },
        "3337cedf8db5476eb30ad61eb0b9d102": {
          "model_module": "@jupyter-widgets/base",
          "model_name": "LayoutModel",
          "state": {
            "_view_name": "LayoutView",
            "grid_template_rows": null,
            "right": null,
            "justify_content": null,
            "_view_module": "@jupyter-widgets/base",
            "overflow": null,
            "_model_module_version": "1.2.0",
            "_view_count": null,
            "flex_flow": null,
            "width": null,
            "min_width": null,
            "border": null,
            "align_items": null,
            "bottom": null,
            "_model_module": "@jupyter-widgets/base",
            "top": null,
            "grid_column": null,
            "overflow_y": null,
            "overflow_x": null,
            "grid_auto_flow": null,
            "grid_area": null,
            "grid_template_columns": null,
            "flex": null,
            "_model_name": "LayoutModel",
            "justify_items": null,
            "grid_row": null,
            "max_height": null,
            "align_content": null,
            "visibility": null,
            "align_self": null,
            "height": null,
            "min_height": null,
            "padding": null,
            "grid_auto_rows": null,
            "grid_gap": null,
            "max_width": null,
            "order": null,
            "_view_module_version": "1.2.0",
            "grid_template_areas": null,
            "object_position": null,
            "object_fit": null,
            "grid_auto_columns": null,
            "margin": null,
            "display": null,
            "left": null
          }
        },
        "d5579146d8174c3b93984780726d7fe8": {
          "model_module": "@jupyter-widgets/controls",
          "model_name": "HBoxModel",
          "state": {
            "_view_name": "HBoxView",
            "_dom_classes": [],
            "_model_name": "HBoxModel",
            "_view_module": "@jupyter-widgets/controls",
            "_model_module_version": "1.5.0",
            "_view_count": null,
            "_view_module_version": "1.5.0",
            "box_style": "",
            "layout": "IPY_MODEL_79431a88f0084c6d9d6813b4cedb3c2e",
            "_model_module": "@jupyter-widgets/controls",
            "children": [
              "IPY_MODEL_fe7ca95b4f9441ce9167bbab84194705",
              "IPY_MODEL_52fea2632d5c445483be81307362253e"
            ]
          }
        },
        "79431a88f0084c6d9d6813b4cedb3c2e": {
          "model_module": "@jupyter-widgets/base",
          "model_name": "LayoutModel",
          "state": {
            "_view_name": "LayoutView",
            "grid_template_rows": null,
            "right": null,
            "justify_content": null,
            "_view_module": "@jupyter-widgets/base",
            "overflow": null,
            "_model_module_version": "1.2.0",
            "_view_count": null,
            "flex_flow": null,
            "width": null,
            "min_width": null,
            "border": null,
            "align_items": null,
            "bottom": null,
            "_model_module": "@jupyter-widgets/base",
            "top": null,
            "grid_column": null,
            "overflow_y": null,
            "overflow_x": null,
            "grid_auto_flow": null,
            "grid_area": null,
            "grid_template_columns": null,
            "flex": null,
            "_model_name": "LayoutModel",
            "justify_items": null,
            "grid_row": null,
            "max_height": null,
            "align_content": null,
            "visibility": null,
            "align_self": null,
            "height": null,
            "min_height": null,
            "padding": null,
            "grid_auto_rows": null,
            "grid_gap": null,
            "max_width": null,
            "order": null,
            "_view_module_version": "1.2.0",
            "grid_template_areas": null,
            "object_position": null,
            "object_fit": null,
            "grid_auto_columns": null,
            "margin": null,
            "display": null,
            "left": null
          }
        },
        "fe7ca95b4f9441ce9167bbab84194705": {
          "model_module": "@jupyter-widgets/controls",
          "model_name": "IntProgressModel",
          "state": {
            "_view_name": "ProgressView",
            "style": "IPY_MODEL_31261dc1ae5c47a1a9a0a7cf5fcbd7c8",
            "_dom_classes": [],
            "description": "",
            "_model_name": "IntProgressModel",
            "bar_style": "success",
            "max": 1,
            "_view_module": "@jupyter-widgets/controls",
            "_model_module_version": "1.5.0",
            "value": 1,
            "_view_count": null,
            "_view_module_version": "1.5.0",
            "orientation": "horizontal",
            "min": 0,
            "description_tooltip": null,
            "_model_module": "@jupyter-widgets/controls",
            "layout": "IPY_MODEL_0fb4fec1fb0842318ad4c9465d8cc6f4"
          }
        },
        "52fea2632d5c445483be81307362253e": {
          "model_module": "@jupyter-widgets/controls",
          "model_name": "HTMLModel",
          "state": {
            "_view_name": "HTMLView",
            "style": "IPY_MODEL_22fa7c4299cd4cf0bf5be4fc23bda4d6",
            "_dom_classes": [],
            "description": "",
            "_model_name": "HTMLModel",
            "placeholder": "​",
            "_view_module": "@jupyter-widgets/controls",
            "_model_module_version": "1.5.0",
            "value": " 32768/? [00:00&lt;00:00, 109426.53it/s]",
            "_view_count": null,
            "_view_module_version": "1.5.0",
            "description_tooltip": null,
            "_model_module": "@jupyter-widgets/controls",
            "layout": "IPY_MODEL_7fc3063e4aba4c58abe17ea7fc60f1b8"
          }
        },
        "31261dc1ae5c47a1a9a0a7cf5fcbd7c8": {
          "model_module": "@jupyter-widgets/controls",
          "model_name": "ProgressStyleModel",
          "state": {
            "_view_name": "StyleView",
            "_model_name": "ProgressStyleModel",
            "description_width": "initial",
            "_view_module": "@jupyter-widgets/base",
            "_model_module_version": "1.5.0",
            "_view_count": null,
            "_view_module_version": "1.2.0",
            "bar_color": null,
            "_model_module": "@jupyter-widgets/controls"
          }
        },
        "0fb4fec1fb0842318ad4c9465d8cc6f4": {
          "model_module": "@jupyter-widgets/base",
          "model_name": "LayoutModel",
          "state": {
            "_view_name": "LayoutView",
            "grid_template_rows": null,
            "right": null,
            "justify_content": null,
            "_view_module": "@jupyter-widgets/base",
            "overflow": null,
            "_model_module_version": "1.2.0",
            "_view_count": null,
            "flex_flow": null,
            "width": null,
            "min_width": null,
            "border": null,
            "align_items": null,
            "bottom": null,
            "_model_module": "@jupyter-widgets/base",
            "top": null,
            "grid_column": null,
            "overflow_y": null,
            "overflow_x": null,
            "grid_auto_flow": null,
            "grid_area": null,
            "grid_template_columns": null,
            "flex": null,
            "_model_name": "LayoutModel",
            "justify_items": null,
            "grid_row": null,
            "max_height": null,
            "align_content": null,
            "visibility": null,
            "align_self": null,
            "height": null,
            "min_height": null,
            "padding": null,
            "grid_auto_rows": null,
            "grid_gap": null,
            "max_width": null,
            "order": null,
            "_view_module_version": "1.2.0",
            "grid_template_areas": null,
            "object_position": null,
            "object_fit": null,
            "grid_auto_columns": null,
            "margin": null,
            "display": null,
            "left": null
          }
        },
        "22fa7c4299cd4cf0bf5be4fc23bda4d6": {
          "model_module": "@jupyter-widgets/controls",
          "model_name": "DescriptionStyleModel",
          "state": {
            "_view_name": "StyleView",
            "_model_name": "DescriptionStyleModel",
            "description_width": "",
            "_view_module": "@jupyter-widgets/base",
            "_model_module_version": "1.5.0",
            "_view_count": null,
            "_view_module_version": "1.2.0",
            "_model_module": "@jupyter-widgets/controls"
          }
        },
        "7fc3063e4aba4c58abe17ea7fc60f1b8": {
          "model_module": "@jupyter-widgets/base",
          "model_name": "LayoutModel",
          "state": {
            "_view_name": "LayoutView",
            "grid_template_rows": null,
            "right": null,
            "justify_content": null,
            "_view_module": "@jupyter-widgets/base",
            "overflow": null,
            "_model_module_version": "1.2.0",
            "_view_count": null,
            "flex_flow": null,
            "width": null,
            "min_width": null,
            "border": null,
            "align_items": null,
            "bottom": null,
            "_model_module": "@jupyter-widgets/base",
            "top": null,
            "grid_column": null,
            "overflow_y": null,
            "overflow_x": null,
            "grid_auto_flow": null,
            "grid_area": null,
            "grid_template_columns": null,
            "flex": null,
            "_model_name": "LayoutModel",
            "justify_items": null,
            "grid_row": null,
            "max_height": null,
            "align_content": null,
            "visibility": null,
            "align_self": null,
            "height": null,
            "min_height": null,
            "padding": null,
            "grid_auto_rows": null,
            "grid_gap": null,
            "max_width": null,
            "order": null,
            "_view_module_version": "1.2.0",
            "grid_template_areas": null,
            "object_position": null,
            "object_fit": null,
            "grid_auto_columns": null,
            "margin": null,
            "display": null,
            "left": null
          }
        },
        "58130043034b4744a6bd4c14f08034f7": {
          "model_module": "@jupyter-widgets/controls",
          "model_name": "HBoxModel",
          "state": {
            "_view_name": "HBoxView",
            "_dom_classes": [],
            "_model_name": "HBoxModel",
            "_view_module": "@jupyter-widgets/controls",
            "_model_module_version": "1.5.0",
            "_view_count": null,
            "_view_module_version": "1.5.0",
            "box_style": "",
            "layout": "IPY_MODEL_90e44d42d21f4307b8d0298953659f19",
            "_model_module": "@jupyter-widgets/controls",
            "children": [
              "IPY_MODEL_5b0c6e979e654c7b9ca272b910150a7c",
              "IPY_MODEL_bf05a0a387514884a90aef1b092db7ca"
            ]
          }
        },
        "90e44d42d21f4307b8d0298953659f19": {
          "model_module": "@jupyter-widgets/base",
          "model_name": "LayoutModel",
          "state": {
            "_view_name": "LayoutView",
            "grid_template_rows": null,
            "right": null,
            "justify_content": null,
            "_view_module": "@jupyter-widgets/base",
            "overflow": null,
            "_model_module_version": "1.2.0",
            "_view_count": null,
            "flex_flow": null,
            "width": null,
            "min_width": null,
            "border": null,
            "align_items": null,
            "bottom": null,
            "_model_module": "@jupyter-widgets/base",
            "top": null,
            "grid_column": null,
            "overflow_y": null,
            "overflow_x": null,
            "grid_auto_flow": null,
            "grid_area": null,
            "grid_template_columns": null,
            "flex": null,
            "_model_name": "LayoutModel",
            "justify_items": null,
            "grid_row": null,
            "max_height": null,
            "align_content": null,
            "visibility": null,
            "align_self": null,
            "height": null,
            "min_height": null,
            "padding": null,
            "grid_auto_rows": null,
            "grid_gap": null,
            "max_width": null,
            "order": null,
            "_view_module_version": "1.2.0",
            "grid_template_areas": null,
            "object_position": null,
            "object_fit": null,
            "grid_auto_columns": null,
            "margin": null,
            "display": null,
            "left": null
          }
        },
        "5b0c6e979e654c7b9ca272b910150a7c": {
          "model_module": "@jupyter-widgets/controls",
          "model_name": "IntProgressModel",
          "state": {
            "_view_name": "ProgressView",
            "style": "IPY_MODEL_1370c9f29248418a91f08a72fa28aa8e",
            "_dom_classes": [],
            "description": "",
            "_model_name": "IntProgressModel",
            "bar_style": "success",
            "max": 1,
            "_view_module": "@jupyter-widgets/controls",
            "_model_module_version": "1.5.0",
            "value": 1,
            "_view_count": null,
            "_view_module_version": "1.5.0",
            "orientation": "horizontal",
            "min": 0,
            "description_tooltip": null,
            "_model_module": "@jupyter-widgets/controls",
            "layout": "IPY_MODEL_c3ac7c09c29548cd946e3a4fc1bfe7fe"
          }
        },
        "bf05a0a387514884a90aef1b092db7ca": {
          "model_module": "@jupyter-widgets/controls",
          "model_name": "HTMLModel",
          "state": {
            "_view_name": "HTMLView",
            "style": "IPY_MODEL_123c7452c3234881aea7b2f3047bd751",
            "_dom_classes": [],
            "description": "",
            "_model_name": "HTMLModel",
            "placeholder": "​",
            "_view_module": "@jupyter-widgets/controls",
            "_model_module_version": "1.5.0",
            "value": " 1654784/? [00:01&lt;00:00, 1493442.00it/s]",
            "_view_count": null,
            "_view_module_version": "1.5.0",
            "description_tooltip": null,
            "_model_module": "@jupyter-widgets/controls",
            "layout": "IPY_MODEL_c3f9ea7295f649b79a5ac6bce743431b"
          }
        },
        "1370c9f29248418a91f08a72fa28aa8e": {
          "model_module": "@jupyter-widgets/controls",
          "model_name": "ProgressStyleModel",
          "state": {
            "_view_name": "StyleView",
            "_model_name": "ProgressStyleModel",
            "description_width": "initial",
            "_view_module": "@jupyter-widgets/base",
            "_model_module_version": "1.5.0",
            "_view_count": null,
            "_view_module_version": "1.2.0",
            "bar_color": null,
            "_model_module": "@jupyter-widgets/controls"
          }
        },
        "c3ac7c09c29548cd946e3a4fc1bfe7fe": {
          "model_module": "@jupyter-widgets/base",
          "model_name": "LayoutModel",
          "state": {
            "_view_name": "LayoutView",
            "grid_template_rows": null,
            "right": null,
            "justify_content": null,
            "_view_module": "@jupyter-widgets/base",
            "overflow": null,
            "_model_module_version": "1.2.0",
            "_view_count": null,
            "flex_flow": null,
            "width": null,
            "min_width": null,
            "border": null,
            "align_items": null,
            "bottom": null,
            "_model_module": "@jupyter-widgets/base",
            "top": null,
            "grid_column": null,
            "overflow_y": null,
            "overflow_x": null,
            "grid_auto_flow": null,
            "grid_area": null,
            "grid_template_columns": null,
            "flex": null,
            "_model_name": "LayoutModel",
            "justify_items": null,
            "grid_row": null,
            "max_height": null,
            "align_content": null,
            "visibility": null,
            "align_self": null,
            "height": null,
            "min_height": null,
            "padding": null,
            "grid_auto_rows": null,
            "grid_gap": null,
            "max_width": null,
            "order": null,
            "_view_module_version": "1.2.0",
            "grid_template_areas": null,
            "object_position": null,
            "object_fit": null,
            "grid_auto_columns": null,
            "margin": null,
            "display": null,
            "left": null
          }
        },
        "123c7452c3234881aea7b2f3047bd751": {
          "model_module": "@jupyter-widgets/controls",
          "model_name": "DescriptionStyleModel",
          "state": {
            "_view_name": "StyleView",
            "_model_name": "DescriptionStyleModel",
            "description_width": "",
            "_view_module": "@jupyter-widgets/base",
            "_model_module_version": "1.5.0",
            "_view_count": null,
            "_view_module_version": "1.2.0",
            "_model_module": "@jupyter-widgets/controls"
          }
        },
        "c3f9ea7295f649b79a5ac6bce743431b": {
          "model_module": "@jupyter-widgets/base",
          "model_name": "LayoutModel",
          "state": {
            "_view_name": "LayoutView",
            "grid_template_rows": null,
            "right": null,
            "justify_content": null,
            "_view_module": "@jupyter-widgets/base",
            "overflow": null,
            "_model_module_version": "1.2.0",
            "_view_count": null,
            "flex_flow": null,
            "width": null,
            "min_width": null,
            "border": null,
            "align_items": null,
            "bottom": null,
            "_model_module": "@jupyter-widgets/base",
            "top": null,
            "grid_column": null,
            "overflow_y": null,
            "overflow_x": null,
            "grid_auto_flow": null,
            "grid_area": null,
            "grid_template_columns": null,
            "flex": null,
            "_model_name": "LayoutModel",
            "justify_items": null,
            "grid_row": null,
            "max_height": null,
            "align_content": null,
            "visibility": null,
            "align_self": null,
            "height": null,
            "min_height": null,
            "padding": null,
            "grid_auto_rows": null,
            "grid_gap": null,
            "max_width": null,
            "order": null,
            "_view_module_version": "1.2.0",
            "grid_template_areas": null,
            "object_position": null,
            "object_fit": null,
            "grid_auto_columns": null,
            "margin": null,
            "display": null,
            "left": null
          }
        },
        "cb593075edb24dc581a390d3059fe3b4": {
          "model_module": "@jupyter-widgets/controls",
          "model_name": "HBoxModel",
          "state": {
            "_view_name": "HBoxView",
            "_dom_classes": [],
            "_model_name": "HBoxModel",
            "_view_module": "@jupyter-widgets/controls",
            "_model_module_version": "1.5.0",
            "_view_count": null,
            "_view_module_version": "1.5.0",
            "box_style": "",
            "layout": "IPY_MODEL_ed26f4aab756411694e9d8ddaa3abdd5",
            "_model_module": "@jupyter-widgets/controls",
            "children": [
              "IPY_MODEL_0244181b12ac4c67b630b7df47ba4e52",
              "IPY_MODEL_705f36f1b69e42029ace251dfc8d95b7"
            ]
          }
        },
        "ed26f4aab756411694e9d8ddaa3abdd5": {
          "model_module": "@jupyter-widgets/base",
          "model_name": "LayoutModel",
          "state": {
            "_view_name": "LayoutView",
            "grid_template_rows": null,
            "right": null,
            "justify_content": null,
            "_view_module": "@jupyter-widgets/base",
            "overflow": null,
            "_model_module_version": "1.2.0",
            "_view_count": null,
            "flex_flow": null,
            "width": null,
            "min_width": null,
            "border": null,
            "align_items": null,
            "bottom": null,
            "_model_module": "@jupyter-widgets/base",
            "top": null,
            "grid_column": null,
            "overflow_y": null,
            "overflow_x": null,
            "grid_auto_flow": null,
            "grid_area": null,
            "grid_template_columns": null,
            "flex": null,
            "_model_name": "LayoutModel",
            "justify_items": null,
            "grid_row": null,
            "max_height": null,
            "align_content": null,
            "visibility": null,
            "align_self": null,
            "height": null,
            "min_height": null,
            "padding": null,
            "grid_auto_rows": null,
            "grid_gap": null,
            "max_width": null,
            "order": null,
            "_view_module_version": "1.2.0",
            "grid_template_areas": null,
            "object_position": null,
            "object_fit": null,
            "grid_auto_columns": null,
            "margin": null,
            "display": null,
            "left": null
          }
        },
        "0244181b12ac4c67b630b7df47ba4e52": {
          "model_module": "@jupyter-widgets/controls",
          "model_name": "IntProgressModel",
          "state": {
            "_view_name": "ProgressView",
            "style": "IPY_MODEL_e1296ba8488d40a1af64c38dc3c4bb17",
            "_dom_classes": [],
            "description": "",
            "_model_name": "IntProgressModel",
            "bar_style": "success",
            "max": 1,
            "_view_module": "@jupyter-widgets/controls",
            "_model_module_version": "1.5.0",
            "value": 1,
            "_view_count": null,
            "_view_module_version": "1.5.0",
            "orientation": "horizontal",
            "min": 0,
            "description_tooltip": null,
            "_model_module": "@jupyter-widgets/controls",
            "layout": "IPY_MODEL_ba59e02514c243e188c37d837aedfbfc"
          }
        },
        "705f36f1b69e42029ace251dfc8d95b7": {
          "model_module": "@jupyter-widgets/controls",
          "model_name": "HTMLModel",
          "state": {
            "_view_name": "HTMLView",
            "style": "IPY_MODEL_4d2d4e643cb94218a8f2fab95757db04",
            "_dom_classes": [],
            "description": "",
            "_model_name": "HTMLModel",
            "placeholder": "​",
            "_view_module": "@jupyter-widgets/controls",
            "_model_module_version": "1.5.0",
            "value": " 8192/? [00:00&lt;00:00, 24748.28it/s]",
            "_view_count": null,
            "_view_module_version": "1.5.0",
            "description_tooltip": null,
            "_model_module": "@jupyter-widgets/controls",
            "layout": "IPY_MODEL_a6c78e888e82437895c2ef6010968bdf"
          }
        },
        "e1296ba8488d40a1af64c38dc3c4bb17": {
          "model_module": "@jupyter-widgets/controls",
          "model_name": "ProgressStyleModel",
          "state": {
            "_view_name": "StyleView",
            "_model_name": "ProgressStyleModel",
            "description_width": "initial",
            "_view_module": "@jupyter-widgets/base",
            "_model_module_version": "1.5.0",
            "_view_count": null,
            "_view_module_version": "1.2.0",
            "bar_color": null,
            "_model_module": "@jupyter-widgets/controls"
          }
        },
        "ba59e02514c243e188c37d837aedfbfc": {
          "model_module": "@jupyter-widgets/base",
          "model_name": "LayoutModel",
          "state": {
            "_view_name": "LayoutView",
            "grid_template_rows": null,
            "right": null,
            "justify_content": null,
            "_view_module": "@jupyter-widgets/base",
            "overflow": null,
            "_model_module_version": "1.2.0",
            "_view_count": null,
            "flex_flow": null,
            "width": null,
            "min_width": null,
            "border": null,
            "align_items": null,
            "bottom": null,
            "_model_module": "@jupyter-widgets/base",
            "top": null,
            "grid_column": null,
            "overflow_y": null,
            "overflow_x": null,
            "grid_auto_flow": null,
            "grid_area": null,
            "grid_template_columns": null,
            "flex": null,
            "_model_name": "LayoutModel",
            "justify_items": null,
            "grid_row": null,
            "max_height": null,
            "align_content": null,
            "visibility": null,
            "align_self": null,
            "height": null,
            "min_height": null,
            "padding": null,
            "grid_auto_rows": null,
            "grid_gap": null,
            "max_width": null,
            "order": null,
            "_view_module_version": "1.2.0",
            "grid_template_areas": null,
            "object_position": null,
            "object_fit": null,
            "grid_auto_columns": null,
            "margin": null,
            "display": null,
            "left": null
          }
        },
        "4d2d4e643cb94218a8f2fab95757db04": {
          "model_module": "@jupyter-widgets/controls",
          "model_name": "DescriptionStyleModel",
          "state": {
            "_view_name": "StyleView",
            "_model_name": "DescriptionStyleModel",
            "description_width": "",
            "_view_module": "@jupyter-widgets/base",
            "_model_module_version": "1.5.0",
            "_view_count": null,
            "_view_module_version": "1.2.0",
            "_model_module": "@jupyter-widgets/controls"
          }
        },
        "a6c78e888e82437895c2ef6010968bdf": {
          "model_module": "@jupyter-widgets/base",
          "model_name": "LayoutModel",
          "state": {
            "_view_name": "LayoutView",
            "grid_template_rows": null,
            "right": null,
            "justify_content": null,
            "_view_module": "@jupyter-widgets/base",
            "overflow": null,
            "_model_module_version": "1.2.0",
            "_view_count": null,
            "flex_flow": null,
            "width": null,
            "min_width": null,
            "border": null,
            "align_items": null,
            "bottom": null,
            "_model_module": "@jupyter-widgets/base",
            "top": null,
            "grid_column": null,
            "overflow_y": null,
            "overflow_x": null,
            "grid_auto_flow": null,
            "grid_area": null,
            "grid_template_columns": null,
            "flex": null,
            "_model_name": "LayoutModel",
            "justify_items": null,
            "grid_row": null,
            "max_height": null,
            "align_content": null,
            "visibility": null,
            "align_self": null,
            "height": null,
            "min_height": null,
            "padding": null,
            "grid_auto_rows": null,
            "grid_gap": null,
            "max_width": null,
            "order": null,
            "_view_module_version": "1.2.0",
            "grid_template_areas": null,
            "object_position": null,
            "object_fit": null,
            "grid_auto_columns": null,
            "margin": null,
            "display": null,
            "left": null
          }
        }
      }
    }
  },
  "cells": [
    {
      "cell_type": "markdown",
      "metadata": {
        "id": "8PysRfCI1eQy",
        "colab_type": "text"
      },
      "source": [
        "This colab notebook is the mini-project which will be "
      ]
    },
    {
      "cell_type": "code",
      "metadata": {
        "id": "aNntDX8oAsDZ",
        "colab_type": "code",
        "colab": {}
      },
      "source": [
        "import torch \n",
        "import torchvision\n",
        "import torch.nn as nn\n",
        "import torch.nn.functional as F\n",
        "import torch.utils.data\n",
        "import numpy as np\n",
        "\n",
        "from torch.autograd import Variable\n",
        "from matplotlib import pyplot as plt\n",
        "\n",
        "torch.set_default_tensor_type('torch.cuda.FloatTensor')\n",
        "device = 'cuda'"
      ],
      "execution_count": 0,
      "outputs": []
    },
    {
      "cell_type": "code",
      "metadata": {
        "id": "kPT0_Ob9BDUG",
        "colab_type": "code",
        "outputId": "63bed99c-bef4-4e79-c0f8-92dfc18234ea",
        "colab": {
          "base_uri": "https://localhost:8080/",
          "height": 938,
          "referenced_widgets": [
            "a013cc34191b49d7b641310c819288e6",
            "c3e60be1c2074227b10ff6338c3e800c",
            "4cb95aff159048868314638918c532f1",
            "33c70cbda38a491aa5349fd54f6b8ecd",
            "65d508a9ecd14e0b9843b4b425f4b3a4",
            "aa0af76709d641fcbbc27de12566c5cd",
            "f2f4ed734e174bc8acbfdefa8c7f841b",
            "3337cedf8db5476eb30ad61eb0b9d102",
            "d5579146d8174c3b93984780726d7fe8",
            "79431a88f0084c6d9d6813b4cedb3c2e",
            "fe7ca95b4f9441ce9167bbab84194705",
            "52fea2632d5c445483be81307362253e",
            "31261dc1ae5c47a1a9a0a7cf5fcbd7c8",
            "0fb4fec1fb0842318ad4c9465d8cc6f4",
            "22fa7c4299cd4cf0bf5be4fc23bda4d6",
            "7fc3063e4aba4c58abe17ea7fc60f1b8",
            "58130043034b4744a6bd4c14f08034f7",
            "90e44d42d21f4307b8d0298953659f19",
            "5b0c6e979e654c7b9ca272b910150a7c",
            "bf05a0a387514884a90aef1b092db7ca",
            "1370c9f29248418a91f08a72fa28aa8e",
            "c3ac7c09c29548cd946e3a4fc1bfe7fe",
            "123c7452c3234881aea7b2f3047bd751",
            "c3f9ea7295f649b79a5ac6bce743431b",
            "cb593075edb24dc581a390d3059fe3b4",
            "ed26f4aab756411694e9d8ddaa3abdd5",
            "0244181b12ac4c67b630b7df47ba4e52",
            "705f36f1b69e42029ace251dfc8d95b7",
            "e1296ba8488d40a1af64c38dc3c4bb17",
            "ba59e02514c243e188c37d837aedfbfc",
            "4d2d4e643cb94218a8f2fab95757db04",
            "a6c78e888e82437895c2ef6010968bdf"
          ]
        }
      },
      "source": [
        "#We will load the MNIST dataset here.\n",
        "\n",
        "transform = torchvision.transforms.Compose([torchvision.transforms.ToTensor()])\n",
        "\n",
        "train_data = torchvision.datasets.MNIST(root = './data', train = True, download = True, transform = transform )\n",
        "\n",
        "test_data = torchvision.datasets.MNIST(root = './data',train = False ,download = True,  transform = transform)\n",
        "\n",
        " \n",
        "\n",
        "print(train_data)\n",
        "print(test_data)\n",
        "\n",
        "plt.imshow(np.asarray(train_data[1][0].reshape(28,28)))\n",
        "\n"
      ],
      "execution_count": 0,
      "outputs": [
        {
          "output_type": "stream",
          "text": [
            "Downloading http://yann.lecun.com/exdb/mnist/train-images-idx3-ubyte.gz to ./data/MNIST/raw/train-images-idx3-ubyte.gz\n"
          ],
          "name": "stdout"
        },
        {
          "output_type": "display_data",
          "data": {
            "application/vnd.jupyter.widget-view+json": {
              "model_id": "a013cc34191b49d7b641310c819288e6",
              "version_minor": 0,
              "version_major": 2
            },
            "text/plain": [
              "HBox(children=(IntProgress(value=1, bar_style='info', max=1), HTML(value='')))"
            ]
          },
          "metadata": {
            "tags": []
          }
        },
        {
          "output_type": "stream",
          "text": [
            "Extracting ./data/MNIST/raw/train-images-idx3-ubyte.gz to ./data/MNIST/raw\n",
            "Downloading http://yann.lecun.com/exdb/mnist/train-labels-idx1-ubyte.gz to ./data/MNIST/raw/train-labels-idx1-ubyte.gz\n"
          ],
          "name": "stdout"
        },
        {
          "output_type": "display_data",
          "data": {
            "application/vnd.jupyter.widget-view+json": {
              "model_id": "d5579146d8174c3b93984780726d7fe8",
              "version_minor": 0,
              "version_major": 2
            },
            "text/plain": [
              "HBox(children=(IntProgress(value=1, bar_style='info', max=1), HTML(value='')))"
            ]
          },
          "metadata": {
            "tags": []
          }
        },
        {
          "output_type": "stream",
          "text": [
            "Extracting ./data/MNIST/raw/train-labels-idx1-ubyte.gz to ./data/MNIST/raw\n",
            "Downloading http://yann.lecun.com/exdb/mnist/t10k-images-idx3-ubyte.gz to ./data/MNIST/raw/t10k-images-idx3-ubyte.gz\n",
            "\n",
            "\n"
          ],
          "name": "stdout"
        },
        {
          "output_type": "display_data",
          "data": {
            "application/vnd.jupyter.widget-view+json": {
              "model_id": "58130043034b4744a6bd4c14f08034f7",
              "version_minor": 0,
              "version_major": 2
            },
            "text/plain": [
              "HBox(children=(IntProgress(value=1, bar_style='info', max=1), HTML(value='')))"
            ]
          },
          "metadata": {
            "tags": []
          }
        },
        {
          "output_type": "stream",
          "text": [
            "Extracting ./data/MNIST/raw/t10k-images-idx3-ubyte.gz to ./data/MNIST/raw\n",
            "Downloading http://yann.lecun.com/exdb/mnist/t10k-labels-idx1-ubyte.gz to ./data/MNIST/raw/t10k-labels-idx1-ubyte.gz\n"
          ],
          "name": "stdout"
        },
        {
          "output_type": "display_data",
          "data": {
            "application/vnd.jupyter.widget-view+json": {
              "model_id": "cb593075edb24dc581a390d3059fe3b4",
              "version_minor": 0,
              "version_major": 2
            },
            "text/plain": [
              "HBox(children=(IntProgress(value=1, bar_style='info', max=1), HTML(value='')))"
            ]
          },
          "metadata": {
            "tags": []
          }
        },
        {
          "output_type": "stream",
          "text": [
            "Extracting ./data/MNIST/raw/t10k-labels-idx1-ubyte.gz to ./data/MNIST/raw\n",
            "Processing...\n",
            "Done!\n",
            "Dataset MNIST\n",
            "    Number of datapoints: 60000\n",
            "    Root location: ./data\n",
            "    Split: Train\n",
            "    StandardTransform\n",
            "Transform: Compose(\n",
            "               ToTensor()\n",
            "           )\n",
            "Dataset MNIST\n",
            "    Number of datapoints: 10000\n",
            "    Root location: ./data\n",
            "    Split: Test\n",
            "    StandardTransform\n",
            "Transform: Compose(\n",
            "               ToTensor()\n",
            "           )\n",
            "\n"
          ],
          "name": "stdout"
        },
        {
          "output_type": "execute_result",
          "data": {
            "text/plain": [
              "<matplotlib.image.AxesImage at 0x7f9975356c88>"
            ]
          },
          "metadata": {
            "tags": []
          },
          "execution_count": 5
        },
        {
          "output_type": "stream",
          "text": [
            "\n"
          ],
          "name": "stdout"
        },
        {
          "output_type": "display_data",
          "data": {
            "image/png": "[encoded data removed]",
            "text/plain": [
              "<Figure size 432x288 with 1 Axes>"
            ]
          },
          "metadata": {
            "tags": []
          }
        }
      ]
    },
    {
      "cell_type": "code",
      "metadata": {
        "id": "xRmiRtSDB_QV",
        "colab_type": "code",
        "outputId": "97747a33-ecb9-46f2-cfba-0a05b93520f9",
        "colab": {
          "base_uri": "https://localhost:8080/",
          "height": 35
        }
      },
      "source": [
        "BATCH_SIZE = 32\n",
        "train_loader = torch.utils.data.DataLoader (train_data, batch_size = BATCH_SIZE, )\n",
        "test_loader = torch.utils.data.DataLoader (test_data, batch_size = 1, )\n",
        "\n",
        "# train_loader.to('cuda')\n",
        "# test_loader.to('cuda')\n",
        "\n",
        "\n",
        "print(train_loader)"
      ],
      "execution_count": 0,
      "outputs": [
        {
          "output_type": "stream",
          "text": [
            "<torch.utils.data.dataloader.DataLoader object at 0x7f99753cf278>\n"
          ],
          "name": "stdout"
        }
      ]
    },
    {
      "cell_type": "markdown",
      "metadata": {
        "id": "pMeoiIqrd-v7",
        "colab_type": "text"
      },
      "source": [
        "We will define our network in the following cell. There are several ways of doing this in PyTorch, but in this example we will do it by subclassing nn.module.\n",
        "\n",
        "Our network will have 4 convolutional layers followed by 2 fully-connected layers.\n"
      ]
    },
    {
      "cell_type": "code",
      "metadata": {
        "id": "JHW6Cku-CJSM",
        "colab_type": "code",
        "colab": {}
      },
      "source": [
        "class MyConvNet(nn.Module):\n",
        "  def __init__(self):\n",
        "    super(MyConvNet, self).__init__()\n",
        "    self.conv1 = nn.Conv2d(1, 32, kernel_size = 3) #Only black and while input channel.\n",
        "    self.conv2 = nn.Conv2d(32, 64, kernel_size = 3)\n",
        "    self.conv3 = nn.Conv2d(64, 64, kernel_size = 5)\n",
        "    self.conv4 = nn.Conv2d(64, 64, kernel_size = 5)\n",
        "\n",
        "    self.dense1 = nn.Linear(64*3*3, 128)\n",
        "    self.dense2 = nn.Linear(128, 10)\n",
        "\n",
        "  def forward (self, x):\n",
        "    x = F.relu(self.conv1(x))\n",
        "    x = F.relu(self.conv2(x))\n",
        "\n",
        "    x = F.relu(F.max_pool2d(self.conv3(x), 2))\n",
        "    x = F.relu(F.max_pool2d(self.conv4(x), 2))\n",
        "\n",
        "    x = x.view(-1, 3*3*64)\n",
        "    x = F.relu(self.dense1(x))\n",
        "    x = F.relu(self.dense2(x))\n",
        "\n",
        "    return F.softmax(x, dim = 1)    \n"
      ],
      "execution_count": 0,
      "outputs": []
    },
    {
      "cell_type": "code",
      "metadata": {
        "id": "8T2rbFGKlS32",
        "colab_type": "code",
        "outputId": "af758187-7222-4055-b405-eb7cd2ff35c0",
        "colab": {
          "base_uri": "https://localhost:8080/",
          "height": 1326
        }
      },
      "source": [
        "#Setting few things up\n",
        "\n",
        "net = MyConvNet()\n",
        "net.to('cuda')\n",
        "print(net)\n",
        "tld = iter(train_loader)\n",
        "im = next(tld)[0].to(device)\n",
        "print (net.forward(im))\n"
      ],
      "execution_count": 0,
      "outputs": [
        {
          "output_type": "stream",
          "text": [
            "MyConvNet(\n",
            "  (conv1): Conv2d(1, 32, kernel_size=(3, 3), stride=(1, 1))\n",
            "  (conv2): Conv2d(32, 64, kernel_size=(3, 3), stride=(1, 1))\n",
            "  (conv3): Conv2d(64, 64, kernel_size=(5, 5), stride=(1, 1))\n",
            "  (conv4): Conv2d(64, 64, kernel_size=(5, 5), stride=(1, 1))\n",
            "  (dense1): Linear(in_features=576, out_features=128, bias=True)\n",
            "  (dense2): Linear(in_features=128, out_features=10, bias=True)\n",
            ")\n",
            "tensor([[0.1023, 0.0979, 0.0979, 0.0980, 0.0993, 0.0979, 0.0979, 0.1062, 0.1045,\n",
            "         0.0979],\n",
            "        [0.1022, 0.0979, 0.0979, 0.0981, 0.0992, 0.0979, 0.0979, 0.1062, 0.1048,\n",
            "         0.0979],\n",
            "        [0.1022, 0.0980, 0.0980, 0.0981, 0.0993, 0.0980, 0.0980, 0.1061, 0.1045,\n",
            "         0.0980],\n",
            "        [0.1025, 0.0979, 0.0979, 0.0981, 0.0994, 0.0979, 0.0979, 0.1060, 0.1046,\n",
            "         0.0979],\n",
            "        [0.1023, 0.0979, 0.0979, 0.0980, 0.0994, 0.0979, 0.0979, 0.1060, 0.1047,\n",
            "         0.0979],\n",
            "        [0.1024, 0.0979, 0.0979, 0.0981, 0.0994, 0.0979, 0.0979, 0.1060, 0.1045,\n",
            "         0.0979],\n",
            "        [0.1024, 0.0980, 0.0980, 0.0980, 0.0991, 0.0980, 0.0980, 0.1060, 0.1046,\n",
            "         0.0980],\n",
            "        [0.1023, 0.0980, 0.0980, 0.0981, 0.0991, 0.0980, 0.0980, 0.1059, 0.1047,\n",
            "         0.0980],\n",
            "        [0.1022, 0.0980, 0.0980, 0.0981, 0.0994, 0.0980, 0.0980, 0.1060, 0.1045,\n",
            "         0.0980],\n",
            "        [0.1027, 0.0979, 0.0979, 0.0982, 0.0992, 0.0979, 0.0979, 0.1060, 0.1046,\n",
            "         0.0979],\n",
            "        [0.1024, 0.0979, 0.0979, 0.0979, 0.0991, 0.0979, 0.0979, 0.1062, 0.1047,\n",
            "         0.0979],\n",
            "        [0.1025, 0.0979, 0.0979, 0.0980, 0.0992, 0.0979, 0.0979, 0.1062, 0.1046,\n",
            "         0.0979],\n",
            "        [0.1025, 0.0979, 0.0979, 0.0980, 0.0991, 0.0979, 0.0979, 0.1062, 0.1049,\n",
            "         0.0979],\n",
            "        [0.1026, 0.0979, 0.0979, 0.0982, 0.0991, 0.0979, 0.0979, 0.1060, 0.1048,\n",
            "         0.0979],\n",
            "        [0.1022, 0.0979, 0.0979, 0.0981, 0.0993, 0.0979, 0.0979, 0.1061, 0.1046,\n",
            "         0.0979],\n",
            "        [0.1026, 0.0979, 0.0979, 0.0982, 0.0993, 0.0979, 0.0979, 0.1058, 0.1046,\n",
            "         0.0979],\n",
            "        [0.1023, 0.0980, 0.0980, 0.0980, 0.0994, 0.0980, 0.0980, 0.1059, 0.1047,\n",
            "         0.0980],\n",
            "        [0.1026, 0.0979, 0.0979, 0.0981, 0.0992, 0.0979, 0.0979, 0.1059, 0.1050,\n",
            "         0.0979],\n",
            "        [0.1025, 0.0979, 0.0979, 0.0983, 0.0991, 0.0979, 0.0979, 0.1062, 0.1046,\n",
            "         0.0979],\n",
            "        [0.1025, 0.0979, 0.0979, 0.0981, 0.0991, 0.0979, 0.0979, 0.1059, 0.1049,\n",
            "         0.0979],\n",
            "        [0.1022, 0.0980, 0.0980, 0.0980, 0.0994, 0.0980, 0.0980, 0.1059, 0.1048,\n",
            "         0.0980],\n",
            "        [0.1022, 0.0978, 0.0978, 0.0980, 0.0993, 0.0978, 0.0978, 0.1061, 0.1052,\n",
            "         0.0978],\n",
            "        [0.1025, 0.0979, 0.0979, 0.0984, 0.0993, 0.0979, 0.0979, 0.1058, 0.1045,\n",
            "         0.0979],\n",
            "        [0.1026, 0.0979, 0.0979, 0.0981, 0.0994, 0.0979, 0.0979, 0.1059, 0.1047,\n",
            "         0.0979],\n",
            "        [0.1023, 0.0979, 0.0979, 0.0981, 0.0991, 0.0979, 0.0979, 0.1059, 0.1050,\n",
            "         0.0979],\n",
            "        [0.1025, 0.0978, 0.0978, 0.0984, 0.0989, 0.0978, 0.0978, 0.1059, 0.1053,\n",
            "         0.0978],\n",
            "        [0.1025, 0.0980, 0.0980, 0.0983, 0.0992, 0.0980, 0.0980, 0.1058, 0.1044,\n",
            "         0.0980],\n",
            "        [0.1025, 0.0979, 0.0979, 0.0979, 0.0990, 0.0979, 0.0979, 0.1061, 0.1049,\n",
            "         0.0979],\n",
            "        [0.1026, 0.0979, 0.0979, 0.0980, 0.0991, 0.0979, 0.0979, 0.1062, 0.1046,\n",
            "         0.0979],\n",
            "        [0.1025, 0.0979, 0.0979, 0.0982, 0.0992, 0.0979, 0.0979, 0.1058, 0.1046,\n",
            "         0.0979],\n",
            "        [0.1024, 0.0979, 0.0979, 0.0982, 0.0990, 0.0979, 0.0979, 0.1060, 0.1046,\n",
            "         0.0979],\n",
            "        [0.1026, 0.0979, 0.0979, 0.0980, 0.0989, 0.0979, 0.0979, 0.1060, 0.1049,\n",
            "         0.0979]], grad_fn=<SoftmaxBackward>)\n"
          ],
          "name": "stdout"
        }
      ]
    },
    {
      "cell_type": "code",
      "metadata": {
        "id": "XYgE1F24lXn7",
        "colab_type": "code",
        "colab": {}
      },
      "source": [
        "def test(model, test_loader):\n",
        "    correct = 0 \n",
        "    for test_imgs, test_labels in test_loader:\n",
        "        test_imgs = Variable(test_imgs).to(device)\n",
        "        output = model(test_imgs)\n",
        "        predicted = torch.max(output,axis = 1).indices\n",
        "        correct += (predicted == test_labels).sum()\n",
        "        # print(predicted, test_labels)\n",
        "        # print(correct)\n",
        "    print(\"Test accuracy:{:.3f}% \".format( float(correct * 100) / (len(test_loader))))\n",
        "\n",
        "\n",
        "def train(model, train_loader, EPOCHS = 6, lossF = None):\n",
        "  if lossF == None:\n",
        "    lossF = nn.CrossEntropyLoss()\n",
        "  optim = torch.optim.Adam (model.parameters(), lr = 4e-4, weight_decay=1e-3)\n",
        "  model.train()\n",
        "  for epoch in range(EPOCHS):\n",
        "    correct = 0\n",
        "    for batch_idx, (X_batch, y_batch) in enumerate(train_loader):\n",
        "      var_X_batch = Variable(X_batch).to(device)\n",
        "      var_y_batch = Variable(y_batch).to(device)\n",
        "      # print(var_X_batch.size())\n",
        "      output = model(var_X_batch)\n",
        "\n",
        "      # print(output)\n",
        "      # print(output.size(), var_y_batch.size())\n",
        "      loss = lossF (output, var_y_batch)\n",
        "      loss.backward()\n",
        "      optim.step()\n",
        "      optim.zero_grad()\n",
        "\n",
        "      predicted = torch.max(output.data, axis = 1).indices\n",
        "      # print(predicted)\n",
        "      correct += (predicted == var_y_batch).sum()\n",
        "\n",
        "      if (batch_idx % 200) == 0:\n",
        "          print('Epoch : {} [{}/{} ({:.0f}%)]\\tLoss: {:.6f}\\t Accuracy:{:.3f}%'.format(\n",
        "                    epoch, batch_idx*len(X_batch), len(train_loader.dataset), 100.*batch_idx / len(train_loader), loss.item(), float(correct*100) / float(BATCH_SIZE*(batch_idx+1))))\n",
        "\n",
        "\n"
      ],
      "execution_count": 0,
      "outputs": []
    },
    {
      "cell_type": "code",
      "metadata": {
        "id": "snnWa2Cx46lt",
        "colab_type": "code",
        "outputId": "69e1691e-856c-4a71-c3e5-95ba0397f5b0",
        "colab": {
          "base_uri": "https://localhost:8080/",
          "height": 1000
        }
      },
      "source": [
        "train (net, train_loader)"
      ],
      "execution_count": 0,
      "outputs": [
        {
          "output_type": "stream",
          "text": [
            "Epoch : 0 [0/60000 (0%)]\tLoss: 1.488319\t Accuracy:96.875%\n",
            "Epoch : 0 [6400/60000 (11%)]\tLoss: 1.502229\t Accuracy:98.912%\n",
            "Epoch : 0 [12800/60000 (21%)]\tLoss: 1.468827\t Accuracy:98.854%\n",
            "Epoch : 0 [19200/60000 (32%)]\tLoss: 1.494073\t Accuracy:98.825%\n",
            "Epoch : 0 [25600/60000 (43%)]\tLoss: 1.461303\t Accuracy:98.896%\n",
            "Epoch : 0 [32000/60000 (53%)]\tLoss: 1.487499\t Accuracy:98.870%\n",
            "Epoch : 0 [38400/60000 (64%)]\tLoss: 1.494469\t Accuracy:98.863%\n",
            "Epoch : 0 [44800/60000 (75%)]\tLoss: 1.462196\t Accuracy:98.842%\n",
            "Epoch : 0 [51200/60000 (85%)]\tLoss: 1.489333\t Accuracy:98.802%\n",
            "Epoch : 0 [57600/60000 (96%)]\tLoss: 1.492449\t Accuracy:98.782%\n",
            "Epoch : 1 [0/60000 (0%)]\tLoss: 1.491289\t Accuracy:96.875%\n",
            "Epoch : 1 [6400/60000 (11%)]\tLoss: 1.479921\t Accuracy:99.036%\n",
            "Epoch : 1 [12800/60000 (21%)]\tLoss: 1.490141\t Accuracy:98.862%\n",
            "Epoch : 1 [19200/60000 (32%)]\tLoss: 1.461366\t Accuracy:98.918%\n",
            "Epoch : 1 [25600/60000 (43%)]\tLoss: 1.461505\t Accuracy:98.970%\n",
            "Epoch : 1 [32000/60000 (53%)]\tLoss: 1.462684\t Accuracy:98.954%\n",
            "Epoch : 1 [38400/60000 (64%)]\tLoss: 1.491496\t Accuracy:98.925%\n",
            "Epoch : 1 [44800/60000 (75%)]\tLoss: 1.462264\t Accuracy:98.911%\n",
            "Epoch : 1 [51200/60000 (85%)]\tLoss: 1.470241\t Accuracy:98.866%\n",
            "Epoch : 1 [57600/60000 (96%)]\tLoss: 1.473647\t Accuracy:98.844%\n",
            "Epoch : 2 [0/60000 (0%)]\tLoss: 1.483259\t Accuracy:96.875%\n",
            "Epoch : 2 [6400/60000 (11%)]\tLoss: 1.461650\t Accuracy:98.958%\n",
            "Epoch : 2 [12800/60000 (21%)]\tLoss: 1.493876\t Accuracy:98.854%\n",
            "Epoch : 2 [19200/60000 (32%)]\tLoss: 1.468400\t Accuracy:98.913%\n",
            "Epoch : 2 [25600/60000 (43%)]\tLoss: 1.461190\t Accuracy:98.974%\n",
            "Epoch : 2 [32000/60000 (53%)]\tLoss: 1.465904\t Accuracy:98.935%\n",
            "Epoch : 2 [38400/60000 (64%)]\tLoss: 1.490965\t Accuracy:98.920%\n",
            "Epoch : 2 [44800/60000 (75%)]\tLoss: 1.479225\t Accuracy:98.918%\n",
            "Epoch : 2 [51200/60000 (85%)]\tLoss: 1.481219\t Accuracy:98.923%\n",
            "Epoch : 2 [57600/60000 (96%)]\tLoss: 1.468179\t Accuracy:98.919%\n",
            "Epoch : 3 [0/60000 (0%)]\tLoss: 1.467359\t Accuracy:100.000%\n",
            "Epoch : 3 [6400/60000 (11%)]\tLoss: 1.478127\t Accuracy:98.958%\n",
            "Epoch : 3 [12800/60000 (21%)]\tLoss: 1.483462\t Accuracy:98.886%\n",
            "Epoch : 3 [19200/60000 (32%)]\tLoss: 1.462197\t Accuracy:98.955%\n",
            "Epoch : 3 [25600/60000 (43%)]\tLoss: 1.461200\t Accuracy:98.978%\n",
            "Epoch : 3 [32000/60000 (53%)]\tLoss: 1.471512\t Accuracy:98.954%\n",
            "Epoch : 3 [38400/60000 (64%)]\tLoss: 1.491146\t Accuracy:98.938%\n",
            "Epoch : 3 [44800/60000 (75%)]\tLoss: 1.472353\t Accuracy:98.947%\n",
            "Epoch : 3 [51200/60000 (85%)]\tLoss: 1.492470\t Accuracy:98.889%\n",
            "Epoch : 3 [57600/60000 (96%)]\tLoss: 1.480729\t Accuracy:98.890%\n",
            "Epoch : 4 [0/60000 (0%)]\tLoss: 1.462042\t Accuracy:100.000%\n",
            "Epoch : 4 [6400/60000 (11%)]\tLoss: 1.461505\t Accuracy:98.927%\n",
            "Epoch : 4 [12800/60000 (21%)]\tLoss: 1.464034\t Accuracy:98.862%\n",
            "Epoch : 4 [19200/60000 (32%)]\tLoss: 1.470548\t Accuracy:98.955%\n",
            "Epoch : 4 [25600/60000 (43%)]\tLoss: 1.461175\t Accuracy:98.997%\n",
            "Epoch : 4 [32000/60000 (53%)]\tLoss: 1.461817\t Accuracy:98.970%\n",
            "Epoch : 4 [38400/60000 (64%)]\tLoss: 1.491909\t Accuracy:98.975%\n",
            "Epoch : 4 [44800/60000 (75%)]\tLoss: 1.505329\t Accuracy:98.972%\n",
            "Epoch : 4 [51200/60000 (85%)]\tLoss: 1.461614\t Accuracy:98.952%\n",
            "Epoch : 4 [57600/60000 (96%)]\tLoss: 1.462912\t Accuracy:98.954%\n",
            "Epoch : 5 [0/60000 (0%)]\tLoss: 1.463558\t Accuracy:100.000%\n",
            "Epoch : 5 [6400/60000 (11%)]\tLoss: 1.468361\t Accuracy:99.176%\n",
            "Epoch : 5 [12800/60000 (21%)]\tLoss: 1.486069\t Accuracy:99.049%\n",
            "Epoch : 5 [19200/60000 (32%)]\tLoss: 1.461901\t Accuracy:98.986%\n",
            "Epoch : 5 [25600/60000 (43%)]\tLoss: 1.461213\t Accuracy:99.036%\n",
            "Epoch : 5 [32000/60000 (53%)]\tLoss: 1.475782\t Accuracy:99.010%\n",
            "Epoch : 5 [38400/60000 (64%)]\tLoss: 1.490745\t Accuracy:98.998%\n",
            "Epoch : 5 [44800/60000 (75%)]\tLoss: 1.463939\t Accuracy:99.012%\n",
            "Epoch : 5 [51200/60000 (85%)]\tLoss: 1.485693\t Accuracy:98.971%\n",
            "Epoch : 5 [57600/60000 (96%)]\tLoss: 1.475317\t Accuracy:98.966%\n"
          ],
          "name": "stdout"
        }
      ]
    },
    {
      "cell_type": "code",
      "metadata": {
        "id": "mU2zLhyg92bu",
        "colab_type": "code",
        "outputId": "ffdd7c80-d15f-40c6-eded-7332823ac408",
        "colab": {
          "base_uri": "https://localhost:8080/",
          "height": 35
        }
      },
      "source": [
        "test(net, test_loader)"
      ],
      "execution_count": 0,
      "outputs": [
        {
          "output_type": "stream",
          "text": [
            "Test accuracy:98.860% \n"
          ],
          "name": "stdout"
        }
      ]
    },
    {
      "cell_type": "markdown",
      "metadata": {
        "id": "4O_fyaSRRd60",
        "colab_type": "text"
      },
      "source": [
        "Let's try to hallucinate 7 from our trained network and see what happens. For this we will need to change the network slightly.\n",
        "\n"
      ]
    },
    {
      "cell_type": "code",
      "metadata": {
        "id": "qh-KDmjyS-0o",
        "colab_type": "code",
        "colab": {}
      },
      "source": [
        ""
      ],
      "execution_count": 0,
      "outputs": []
    },
    {
      "cell_type": "code",
      "metadata": {
        "id": "-CT2FsVPEyYM",
        "colab_type": "code",
        "colab": {}
      },
      "source": [
        "def train_im(model, train_loader, digit = 7 ,iters = 1000, lossF = None):\n",
        "  im = torch.zeros_like(train_data[1][0]).view(1, 1, 28, 28).to(device)\n",
        "  im = Variable(im, requires_grad = True)\n",
        "  digit = Variable(torch.tensor(digit)).to(device).view(1)\n",
        "  if lossF == None:\n",
        "    lossF = nn.CrossEntropyLoss()\n",
        "  optim = torch.optim.Adam ([im, ], lr = 4e-3, weight_decay=1e-3)\n",
        "  model.train()\n",
        "  im_history = []\n",
        "  for it in range(iters):\n",
        "    \n",
        "    output = model(im)\n",
        "    # print(output)\n",
        "    loss = lossF (output, digit)\n",
        "    loss.backward()\n",
        "    optim.step()\n",
        "    optim.zero_grad()\n",
        "\n",
        "    \n",
        "    # if (it % 200) == 0:\n",
        "    #     print('Epoch : {} [{}/{} ({:.0f}%)]\\tLoss: {:.6f}\\t Accuracy:{:.3f}%'.format(\n",
        "    #               epoch, batch_idx*len(X_batch), len(train_loader.dataset), 100.*batch_idx / len(train_loader), loss.item(), float(correct*100) / float(BATCH_SIZE*(batch_idx+1))))\n",
        "\n",
        "  return im"
      ],
      "execution_count": 0,
      "outputs": []
    },
    {
      "cell_type": "code",
      "metadata": {
        "id": "-hcvC3TlR3Zs",
        "colab_type": "code",
        "colab": {}
      },
      "source": [
        "im = train_im (net, train_loader, digit=7)"
      ],
      "execution_count": 0,
      "outputs": []
    },
    {
      "cell_type": "code",
      "metadata": {
        "id": "5EdZELUFWWIX",
        "colab_type": "code",
        "colab": {}
      },
      "source": [
        "im = np.asarray(im.view(28, 28).cpu().detach())\n"
      ],
      "execution_count": 0,
      "outputs": []
    },
    {
      "cell_type": "code",
      "metadata": {
        "id": "D3o6tol1Zx1P",
        "colab_type": "code",
        "outputId": "d1c35d78-3b8e-4a48-b042-e1609eca6759",
        "colab": {
          "base_uri": "https://localhost:8080/",
          "height": 283
        }
      },
      "source": [
        "plt.imshow(im)"
      ],
      "execution_count": 0,
      "outputs": [
        {
          "output_type": "execute_result",
          "data": {
            "text/plain": [
              "<matplotlib.image.AxesImage at 0x7f996508e710>"
            ]
          },
          "metadata": {
            "tags": []
          },
          "execution_count": 90
        },
        {
          "output_type": "display_data",
          "data": {
            "image/png": "[encoded data removed]",
            "text/plain": [
              "<Figure size 432x288 with 1 Axes>"
            ]
          },
          "metadata": {
            "tags": []
          }
        }
      ]
    },
    {
      "cell_type": "markdown",
      "metadata": {
        "id": "neETLR1Ub0my",
        "colab_type": "text"
      },
      "source": [
        "In the cell below we will hallucinate all the digits from 0 to 9 each for 1000 iterations and will print the results."
      ]
    },
    {
      "cell_type": "code",
      "metadata": {
        "id": "cPoDpHbvZ9TE",
        "colab_type": "code",
        "outputId": "78661788-26c5-4788-8d0d-d4a63c4e05f6",
        "colab": {
          "base_uri": "https://localhost:8080/",
          "height": 2679
        }
      },
      "source": [
        "for i in range (10):\n",
        "  im = train_im (net, train_loader, digit=i)\n",
        "  im = np.asarray(im.view(28, 28).cpu().detach())\n",
        "  print (i)\n",
        "  plt.imshow(im)\n",
        "  plt.show()"
      ],
      "execution_count": 0,
      "outputs": [
        {
          "output_type": "stream",
          "text": [
            "0\n"
          ],
          "name": "stdout"
        },
        {
          "output_type": "display_data",
          "data": {
            "image/png": "[encoded data removed]",
            "text/plain": [
              "<Figure size 432x288 with 1 Axes>"
            ]
          },
          "metadata": {
            "tags": []
          }
        },
        {
          "output_type": "stream",
          "text": [
            "1\n"
          ],
          "name": "stdout"
        },
        {
          "output_type": "display_data",
          "data": {
            "image/png": "[encoded data removed]",
            "text/plain": [
              "<Figure size 432x288 with 1 Axes>"
            ]
          },
          "metadata": {
            "tags": []
          }
        },
        {
          "output_type": "stream",
          "text": [
            "2\n"
          ],
          "name": "stdout"
        },
        {
          "output_type": "display_data",
          "data": {
            "image/png": "[encoded data removed]",
            "text/plain": [
              "<Figure size 432x288 with 1 Axes>"
            ]
          },
          "metadata": {
            "tags": []
          }
        },
        {
          "output_type": "stream",
          "text": [
            "3\n"
          ],
          "name": "stdout"
        },
        {
          "output_type": "display_data",
          "data": {
            "image/png": "[encoded data removed]",
            "text/plain": [
              "<Figure size 432x288 with 1 Axes>"
            ]
          },
          "metadata": {
            "tags": []
          }
        },
        {
          "output_type": "stream",
          "text": [
            "4\n"
          ],
          "name": "stdout"
        },
        {
          "output_type": "display_data",
          "data": {
            "image/png": "[encoded data removed]",
            "text/plain": [
              "<Figure size 432x288 with 1 Axes>"
            ]
          },
          "metadata": {
            "tags": []
          }
        },
        {
          "output_type": "stream",
          "text": [
            "5\n"
          ],
          "name": "stdout"
        },
        {
          "output_type": "display_data",
          "data": {
            "image/png": "[encoded data removed]",
            "text/plain": [
              "<Figure size 432x288 with 1 Axes>"
            ]
          },
          "metadata": {
            "tags": []
          }
        },
        {
          "output_type": "stream",
          "text": [
            "6\n"
          ],
          "name": "stdout"
        },
        {
          "output_type": "display_data",
          "data": {
            "image/png": "[encoded data removed]",
            "text/plain": [
              "<Figure size 432x288 with 1 Axes>"
            ]
          },
          "metadata": {
            "tags": []
          }
        },
        {
          "output_type": "stream",
          "text": [
            "7\n"
          ],
          "name": "stdout"
        },
        {
          "output_type": "display_data",
          "data": {
            "image/png": "[encoded data removed]",
            "text/plain": [
              "<Figure size 432x288 with 1 Axes>"
            ]
          },
          "metadata": {
            "tags": []
          }
        },
        {
          "output_type": "stream",
          "text": [
            "8\n"
          ],
          "name": "stdout"
        },
        {
          "output_type": "display_data",
          "data": {
            "image/png": "[encoded data removed]",
            "text/plain": [
              "<Figure size 432x288 with 1 Axes>"
            ]
          },
          "metadata": {
            "tags": []
          }
        },
        {
          "output_type": "stream",
          "text": [
            "9\n"
          ],
          "name": "stdout"
        },
        {
          "output_type": "display_data",
          "data": {
            "image/png": "[encoded data removed]",
            "text/plain": [
              "<Figure size 432x288 with 1 Axes>"
            ]
          },
          "metadata": {
            "tags": []
          }
        }
      ]
    },
    {
      "cell_type": "code",
      "metadata": {
        "id": "lKE-JtFKbXnf",
        "colab_type": "code",
        "colab": {}
      },
      "source": [
        ""
      ],
      "execution_count": 0,
      "outputs": []
    }
  ]
}